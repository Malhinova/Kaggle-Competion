{
  "metadata": {
    "kernelspec": {
      "language": "python",
      "display_name": "Python 3",
      "name": "python3"
    },
    "language_info": {
      "name": "python",
      "version": "3.10.13",
      "mimetype": "text/x-python",
      "codemirror_mode": {
        "name": "ipython",
        "version": 3
      },
      "pygments_lexer": "ipython3",
      "nbconvert_exporter": "python",
      "file_extension": ".py"
    },
    "kaggle": {
      "accelerator": "none",
      "dataSources": [
        {
          "sourceId": 28007,
          "databundleVersionId": 2425957,
          "sourceType": "competition"
        }
      ],
      "dockerImageVersionId": 30673,
      "isInternetEnabled": true,
      "language": "python",
      "sourceType": "notebook",
      "isGpuEnabled": false
    },
    "colab": {
      "name": "notebook4aa02ce91f",
      "provenance": [],
      "include_colab_link": true
    }
  },
  "nbformat_minor": 0,
  "nbformat": 4,
  "cells": [
    {
      "cell_type": "markdown",
      "metadata": {
        "id": "view-in-github",
        "colab_type": "text"
      },
      "source": [
        "<a href=\"https://colab.research.google.com/github/Malhinova/Kaggle-Competition/blob/main/notebook4aa02ce91f.ipynb\" target=\"_parent\"><img src=\"https://colab.research.google.com/assets/colab-badge.svg\" alt=\"Open In Colab\"/></a>"
      ]
    },
    {
      "source": [
        "\n",
        "# IMPORTANT: RUN THIS CELL IN ORDER TO IMPORT YOUR KAGGLE DATA SOURCES\n",
        "# TO THE CORRECT LOCATION (/kaggle/input) IN YOUR NOTEBOOK,\n",
        "# THEN FEEL FREE TO DELETE THIS CELL.\n",
        "# NOTE: THIS NOTEBOOK ENVIRONMENT DIFFERS FROM KAGGLE'S PYTHON\n",
        "# ENVIRONMENT SO THERE MAY BE MISSING LIBRARIES USED BY YOUR\n",
        "# NOTEBOOK.\n",
        "\n",
        "import os\n",
        "import sys\n",
        "from tempfile import NamedTemporaryFile\n",
        "from urllib.request import urlopen\n",
        "from urllib.parse import unquote, urlparse\n",
        "from urllib.error import HTTPError\n",
        "from zipfile import ZipFile\n",
        "import tarfile\n",
        "import shutil\n",
        "\n",
        "CHUNK_SIZE = 40960\n",
        "DATA_SOURCE_MAPPING = 'tabular-playground-series-jul-2021:https%3A%2F%2Fstorage.googleapis.com%2Fkaggle-competitions-data%2Fkaggle-v2%2F28007%2F2425957%2Fbundle%2Farchive.zip%3FX-Goog-Algorithm%3DGOOG4-RSA-SHA256%26X-Goog-Credential%3Dgcp-kaggle-com%2540kaggle-161607.iam.gserviceaccount.com%252F20240423%252Fauto%252Fstorage%252Fgoog4_request%26X-Goog-Date%3D20240423T134243Z%26X-Goog-Expires%3D259200%26X-Goog-SignedHeaders%3Dhost%26X-Goog-Signature%3D98f922d9e40245b0b02aa59045b84ed9ad2ffc1328945f2fc003ae03d471be3e85e69f4728813d0c0ba5b69daaa023d61cab6cd43b32603710d6fbb754253bb7844250e9efd7158bffce1b19cb7b510ea788ad8ff10ec288cfef06cf16887c78967cb74eb888f7e0cd2c6a3bbf12fa7d4d30dc16445b8b603400dfeb14539cbf519946b8c74f187fb23e9411094284f7f53ca7254cca71d53bd3b49c65b293d328920ca4925e93d0e4ec54db1ee14776685858394ff6e42a390e23701712e6074029149127a3ba54146fc7caa828b26cb560f5c1a9a8e6eddad5d18d20f8dac73d2c2b531028e4df4b2e244585a79a4167349faeaf10d3854c9eb3d94a045a94'\n",
        "\n",
        "KAGGLE_INPUT_PATH='/kaggle/input'\n",
        "KAGGLE_WORKING_PATH='/kaggle/working'\n",
        "KAGGLE_SYMLINK='kaggle'\n",
        "\n",
        "!umount /kaggle/input/ 2> /dev/null\n",
        "shutil.rmtree('/kaggle/input', ignore_errors=True)\n",
        "os.makedirs(KAGGLE_INPUT_PATH, 0o777, exist_ok=True)\n",
        "os.makedirs(KAGGLE_WORKING_PATH, 0o777, exist_ok=True)\n",
        "\n",
        "try:\n",
        "  os.symlink(KAGGLE_INPUT_PATH, os.path.join(\"..\", 'input'), target_is_directory=True)\n",
        "except FileExistsError:\n",
        "  pass\n",
        "try:\n",
        "  os.symlink(KAGGLE_WORKING_PATH, os.path.join(\"..\", 'working'), target_is_directory=True)\n",
        "except FileExistsError:\n",
        "  pass\n",
        "\n",
        "for data_source_mapping in DATA_SOURCE_MAPPING.split(','):\n",
        "    directory, download_url_encoded = data_source_mapping.split(':')\n",
        "    download_url = unquote(download_url_encoded)\n",
        "    filename = urlparse(download_url).path\n",
        "    destination_path = os.path.join(KAGGLE_INPUT_PATH, directory)\n",
        "    try:\n",
        "        with urlopen(download_url) as fileres, NamedTemporaryFile() as tfile:\n",
        "            total_length = fileres.headers['content-length']\n",
        "            print(f'Downloading {directory}, {total_length} bytes compressed')\n",
        "            dl = 0\n",
        "            data = fileres.read(CHUNK_SIZE)\n",
        "            while len(data) > 0:\n",
        "                dl += len(data)\n",
        "                tfile.write(data)\n",
        "                done = int(50 * dl / int(total_length))\n",
        "                sys.stdout.write(f\"\\r[{'=' * done}{' ' * (50-done)}] {dl} bytes downloaded\")\n",
        "                sys.stdout.flush()\n",
        "                data = fileres.read(CHUNK_SIZE)\n",
        "            if filename.endswith('.zip'):\n",
        "              with ZipFile(tfile) as zfile:\n",
        "                zfile.extractall(destination_path)\n",
        "            else:\n",
        "              with tarfile.open(tfile.name) as tarfile:\n",
        "                tarfile.extractall(destination_path)\n",
        "            print(f'\\nDownloaded and uncompressed: {directory}')\n",
        "    except HTTPError as e:\n",
        "        print(f'Failed to load (likely expired) {download_url} to path {destination_path}')\n",
        "        continue\n",
        "    except OSError as e:\n",
        "        print(f'Failed to load {download_url} to path {destination_path}')\n",
        "        continue\n",
        "\n",
        "print('Data source import complete.')\n"
      ],
      "metadata": {
        "id": "oi89sXswuyFB"
      },
      "cell_type": "code",
      "outputs": [],
      "execution_count": null
    },
    {
      "cell_type": "code",
      "source": [
        "# This Python 3 environment comes with many helpful analytics libraries installed\n",
        "# It is defined by the kaggle/python Docker image: https://github.com/kaggle/docker-python\n",
        "# For example, here's several helpful packages to load\n",
        "\n",
        "import numpy as np # linear algebra\n",
        "import pandas as pd # data processing, CSV file I/O (e.g. pd.read_csv)\n",
        "\n",
        "# Input data files are available in the read-only \"../input/\" directory\n",
        "# For example, running this (by clicking run or pressing Shift+Enter) will list all files under the input directory\n",
        "\n",
        "import os\n",
        "for dirname, _, filenames in os.walk('/kaggle/input'):\n",
        "    for filename in filenames:\n",
        "        print(os.path.join(dirname, filename))\n",
        "\n",
        "# You can write up to 20GB to the current directory (/kaggle/working/) that gets preserved as output when you create a version using \"Save & Run All\"\n",
        "# You can also write temporary files to /kaggle/temp/, but they won't be saved outside of the current session"
      ],
      "metadata": {
        "_uuid": "8f2839f25d086af736a60e9eeb907d3b93b6e0e5",
        "_cell_guid": "b1076dfc-b9ad-4769-8c92-a6c4dae69d19",
        "execution": {
          "iopub.status.busy": "2024-04-19T17:37:03.539016Z",
          "iopub.execute_input": "2024-04-19T17:37:03.539465Z",
          "iopub.status.idle": "2024-04-19T17:37:04.955008Z",
          "shell.execute_reply.started": "2024-04-19T17:37:03.539428Z",
          "shell.execute_reply": "2024-04-19T17:37:04.953881Z"
        },
        "trusted": true,
        "id": "yGCI1OEnuyFF"
      },
      "execution_count": null,
      "outputs": []
    },
    {
      "cell_type": "code",
      "source": [
        "import os, shutil\n",
        "\n",
        "import torch\n",
        "from torch import nn\n",
        "from torch import optim\n",
        "from torch.utils.tensorboard import SummaryWriter\n",
        "from torch.utils.data import TensorDataset, DataLoader\n",
        "from torch.nn.utils.rnn import pad_sequence, pack_padded_sequence, pad_packed_sequence\n",
        "\n",
        "import random\n",
        "import numpy as np\n",
        "import pandas as pd\n",
        "from sklearn.metrics import confusion_matrix, accuracy_score, f1_score\n",
        "\n",
        "import matplotlib.pyplot as plt\n",
        "import seaborn as sns\n",
        "\n",
        "%matplotlib inline"
      ],
      "metadata": {
        "execution": {
          "iopub.status.busy": "2024-04-19T17:37:04.957213Z",
          "iopub.execute_input": "2024-04-19T17:37:04.957704Z",
          "iopub.status.idle": "2024-04-19T17:37:28.333736Z",
          "shell.execute_reply.started": "2024-04-19T17:37:04.957673Z",
          "shell.execute_reply": "2024-04-19T17:37:28.332473Z"
        },
        "trusted": true,
        "id": "LSvEOfDCuyFF"
      },
      "execution_count": null,
      "outputs": []
    },
    {
      "cell_type": "code",
      "source": [
        "data=pd.read_csv('/kaggle/input/tabular-playground-series-jul-2021/train.csv')\n",
        "data.head()\n"
      ],
      "metadata": {
        "execution": {
          "iopub.status.busy": "2024-04-19T17:37:28.335026Z",
          "iopub.execute_input": "2024-04-19T17:37:28.335635Z",
          "iopub.status.idle": "2024-04-19T17:37:28.410726Z",
          "shell.execute_reply.started": "2024-04-19T17:37:28.335603Z",
          "shell.execute_reply": "2024-04-19T17:37:28.409472Z"
        },
        "trusted": true,
        "id": "TRafF6XsuyFG"
      },
      "execution_count": null,
      "outputs": []
    },
    {
      "cell_type": "code",
      "source": [
        "date_time_column = data['date_time']\n",
        "targets=['target_carbon_monoxide','target_benzene','target_nitrogen_oxides']\n",
        "# for row in targets:\n",
        "#     plt.figure(figsize=(8, 6))\n",
        "#     sns.scatterplot(y= data[row],x=date_time_column )\n",
        "#     plt.show()"
      ],
      "metadata": {
        "execution": {
          "iopub.status.busy": "2024-04-19T17:37:28.414206Z",
          "iopub.execute_input": "2024-04-19T17:37:28.414686Z",
          "iopub.status.idle": "2024-04-19T17:37:28.422071Z",
          "shell.execute_reply.started": "2024-04-19T17:37:28.414651Z",
          "shell.execute_reply": "2024-04-19T17:37:28.420829Z"
        },
        "trusted": true,
        "id": "rJYhbGNbuyFG"
      },
      "execution_count": null,
      "outputs": []
    },
    {
      "cell_type": "code",
      "source": [
        "data_copy=data.copy()\n",
        "data_copy['date_time'] = pd.to_datetime(data_copy['date_time'])\n",
        "data_copy['month'] = data_copy['date_time'].dt.month\n",
        "data_copy['day'] = data_copy['date_time'].dt.day\n",
        "data_copy['hour'] = data_copy['date_time'].dt.hour\n",
        "data_copy['day_week'] = data_copy['date_time'].dt.day_of_week\n",
        "\n"
      ],
      "metadata": {
        "execution": {
          "iopub.status.busy": "2024-04-19T17:37:28.423833Z",
          "iopub.execute_input": "2024-04-19T17:37:28.424232Z",
          "iopub.status.idle": "2024-04-19T17:37:28.456186Z",
          "shell.execute_reply.started": "2024-04-19T17:37:28.424201Z",
          "shell.execute_reply": "2024-04-19T17:37:28.455162Z"
        },
        "trusted": true,
        "id": "FrecwLGMuyFG"
      },
      "execution_count": null,
      "outputs": []
    },
    {
      "cell_type": "code",
      "source": [
        "def find_hour(hour):\n",
        "    if (hour>=0 and hour<6):\n",
        "        return 1 #Night\n",
        "    if hour>=6 and hour<12:\n",
        "        return 2 #Morning\n",
        "    if hour>=12 and hour<18:\n",
        "        return 3 #Day\n",
        "    if hour>=18 and hour<24:\n",
        "        return 4 #Evening"
      ],
      "metadata": {
        "execution": {
          "iopub.status.busy": "2024-04-19T17:37:28.457953Z",
          "iopub.execute_input": "2024-04-19T17:37:28.458315Z",
          "iopub.status.idle": "2024-04-19T17:37:28.465139Z",
          "shell.execute_reply.started": "2024-04-19T17:37:28.458285Z",
          "shell.execute_reply": "2024-04-19T17:37:28.46392Z"
        },
        "trusted": true,
        "id": "dT4bySiduyFG"
      },
      "execution_count": null,
      "outputs": []
    },
    {
      "cell_type": "code",
      "source": [
        "hour_list=[]\n",
        "for hour in data_copy['hour']:\n",
        "    part_day = find_hour(hour)\n",
        "    hour_list.append(part_day)\n",
        "data_copy['part_day']=hour_list\n",
        "data_copy.head()"
      ],
      "metadata": {
        "execution": {
          "iopub.status.busy": "2024-04-19T17:37:28.466666Z",
          "iopub.execute_input": "2024-04-19T17:37:28.467787Z",
          "iopub.status.idle": "2024-04-19T17:37:28.508859Z",
          "shell.execute_reply.started": "2024-04-19T17:37:28.467752Z",
          "shell.execute_reply": "2024-04-19T17:37:28.50749Z"
        },
        "trusted": true,
        "id": "2-iSyfevuyFH"
      },
      "execution_count": null,
      "outputs": []
    },
    {
      "cell_type": "code",
      "source": [
        "columns = list(data_copy.columns)\n",
        "\n",
        "for col in ['target_carbon_monoxide', 'target_benzene', 'target_nitrogen_oxides']:\n",
        "    columns.remove(col)\n",
        "columns += ['target_carbon_monoxide', 'target_benzene', 'target_nitrogen_oxides']\n",
        "\n",
        "# Rearrange the columns in the final_data DataFrame\n",
        "data_copy = data_copy[columns]\n",
        "data_copy.head()"
      ],
      "metadata": {
        "execution": {
          "iopub.status.busy": "2024-04-19T17:37:28.510741Z",
          "iopub.execute_input": "2024-04-19T17:37:28.511189Z",
          "iopub.status.idle": "2024-04-19T17:37:28.546918Z",
          "shell.execute_reply.started": "2024-04-19T17:37:28.511147Z",
          "shell.execute_reply": "2024-04-19T17:37:28.545604Z"
        },
        "trusted": true,
        "id": "koCFj7azuyFH"
      },
      "execution_count": null,
      "outputs": []
    },
    {
      "cell_type": "code",
      "source": [
        "from sklearn.model_selection import train_test_split\n",
        "from sklearn.preprocessing import StandardScaler\n",
        "from sklearn.preprocessing import MinMaxScaler\n",
        "scaler = MinMaxScaler()\n",
        "features_n =['deg_C', 'relative_humidity', 'absolute_humidity', 'sensor_1', 'sensor_2', 'sensor_3', 'sensor_4', 'sensor_5']\n",
        "final_data=data_copy.copy()\n",
        "final_data[features_n]  = scaler.fit_transform(final_data[features_n])\n",
        "final_data.head()"
      ],
      "metadata": {
        "execution": {
          "iopub.status.busy": "2024-04-19T17:37:28.548321Z",
          "iopub.execute_input": "2024-04-19T17:37:28.5487Z",
          "iopub.status.idle": "2024-04-19T17:37:28.598962Z",
          "shell.execute_reply.started": "2024-04-19T17:37:28.548669Z",
          "shell.execute_reply": "2024-04-19T17:37:28.597736Z"
        },
        "trusted": true,
        "id": "2YslBZoOuyFH"
      },
      "execution_count": null,
      "outputs": []
    },
    {
      "cell_type": "code",
      "source": [
        "numeric_columns_test = final_data.select_dtypes(include=np.number).columns\n",
        "\n",
        "correlation_matrix = final_data[numeric_columns_test].corr()\n",
        "plt.figure(figsize=(10, 8))\n",
        "sns.heatmap(correlation_matrix, annot=True, cmap='coolwarm', fmt=\".2f\", linewidths=0.5)\n",
        "plt.title('Correlation Matrix')\n",
        "plt.show()"
      ],
      "metadata": {
        "execution": {
          "iopub.status.busy": "2024-04-19T17:37:28.604941Z",
          "iopub.execute_input": "2024-04-19T17:37:28.605328Z",
          "iopub.status.idle": "2024-04-19T17:37:29.80423Z",
          "shell.execute_reply.started": "2024-04-19T17:37:28.605298Z",
          "shell.execute_reply": "2024-04-19T17:37:29.803106Z"
        },
        "trusted": true,
        "id": "njxwujlvuyFI"
      },
      "execution_count": null,
      "outputs": []
    },
    {
      "cell_type": "code",
      "source": [
        "features_1 =['sensor_1', 'sensor_2','sensor_5', 'part_day']\n",
        "features_2 =['sensor_2','sensor_5','part_day']\n",
        "features_3 =['deg_C', 'relative_humidity', 'sensor_2', 'sensor_3', 'sensor_4','sensor_5']\n",
        "X1=final_data[features_1]\n",
        "X2=final_data[features_2]\n",
        "X3=final_data[features_3]\n",
        "\n",
        "Y = final_data[targets]\n",
        "Y.head()"
      ],
      "metadata": {
        "execution": {
          "iopub.status.busy": "2024-04-19T17:51:26.616426Z",
          "iopub.execute_input": "2024-04-19T17:51:26.616875Z",
          "iopub.status.idle": "2024-04-19T17:51:26.640096Z",
          "shell.execute_reply.started": "2024-04-19T17:51:26.616844Z",
          "shell.execute_reply": "2024-04-19T17:51:26.638818Z"
        },
        "trusted": true,
        "id": "umAHdhg0uyFI"
      },
      "execution_count": null,
      "outputs": []
    },
    {
      "cell_type": "code",
      "source": [
        "from sklearn.model_selection import train_test_split\n",
        "X_train, X_valid, y_train, y_valid = train_test_split(X1, Y[targets[0]])\n"
      ],
      "metadata": {
        "execution": {
          "iopub.status.busy": "2024-04-19T17:48:21.295509Z",
          "iopub.execute_input": "2024-04-19T17:48:21.295924Z",
          "iopub.status.idle": "2024-04-19T17:48:21.304609Z",
          "shell.execute_reply.started": "2024-04-19T17:48:21.295894Z",
          "shell.execute_reply": "2024-04-19T17:48:21.303239Z"
        },
        "trusted": true,
        "id": "v1WqwQ9TuyFI"
      },
      "execution_count": null,
      "outputs": []
    },
    {
      "cell_type": "code",
      "source": [
        "from xgboost import XGBRegressor\n",
        "\n",
        "xgb_regressor1 = XGBRegressor(n_estimators=400, learning_rate=0.05)\n",
        "xgb_regressor1.fit(X_train, y_train,\n",
        "             early_stopping_rounds=5,\n",
        "             eval_set=[(X_valid, y_valid)],\n",
        "             verbose=False)"
      ],
      "metadata": {
        "execution": {
          "iopub.status.busy": "2024-04-19T17:48:23.593753Z",
          "iopub.execute_input": "2024-04-19T17:48:23.59417Z",
          "iopub.status.idle": "2024-04-19T17:48:23.752382Z",
          "shell.execute_reply.started": "2024-04-19T17:48:23.594134Z",
          "shell.execute_reply": "2024-04-19T17:48:23.751206Z"
        },
        "trusted": true,
        "id": "FkiQQNrOuyFI"
      },
      "execution_count": null,
      "outputs": []
    },
    {
      "cell_type": "code",
      "source": [
        "from sklearn.metrics import mean_absolute_error\n",
        "\n",
        "predictions = xgb_regressor1.predict(X_valid)\n",
        "print(\"Mean Absolute Error: \" + str(mean_absolute_error(predictions, y_valid)))"
      ],
      "metadata": {
        "execution": {
          "iopub.status.busy": "2024-04-19T17:48:26.566153Z",
          "iopub.execute_input": "2024-04-19T17:48:26.566983Z",
          "iopub.status.idle": "2024-04-19T17:48:26.580698Z",
          "shell.execute_reply.started": "2024-04-19T17:48:26.566933Z",
          "shell.execute_reply": "2024-04-19T17:48:26.579492Z"
        },
        "trusted": true,
        "id": "TVy4sW1nuyFI"
      },
      "execution_count": null,
      "outputs": []
    },
    {
      "cell_type": "code",
      "source": [
        "X_train, X_valid, y_train, y_valid = train_test_split(X2, Y[targets[1]])"
      ],
      "metadata": {
        "execution": {
          "iopub.status.busy": "2024-04-19T17:48:28.839797Z",
          "iopub.execute_input": "2024-04-19T17:48:28.840601Z",
          "iopub.status.idle": "2024-04-19T17:48:28.848456Z",
          "shell.execute_reply.started": "2024-04-19T17:48:28.840561Z",
          "shell.execute_reply": "2024-04-19T17:48:28.847205Z"
        },
        "trusted": true,
        "id": "d5VzVGL_uyFI"
      },
      "execution_count": null,
      "outputs": []
    },
    {
      "cell_type": "code",
      "source": [
        "xgb_regressor2 = XGBRegressor(n_estimators=500, learning_rate=0.01)\n",
        "xgb_regressor2.fit(X_train, y_train,\n",
        "             early_stopping_rounds=4,\n",
        "             eval_set=[(X_valid, y_valid)],\n",
        "             verbose=False)\n",
        "predictions = xgb_regressor2.predict(X_valid)\n",
        "print(\"Mean Absolute Error: \" + str(mean_absolute_error(predictions, y_valid)))"
      ],
      "metadata": {
        "execution": {
          "iopub.status.busy": "2024-04-19T17:48:30.855847Z",
          "iopub.execute_input": "2024-04-19T17:48:30.85632Z",
          "iopub.status.idle": "2024-04-19T17:48:31.599049Z",
          "shell.execute_reply.started": "2024-04-19T17:48:30.856283Z",
          "shell.execute_reply": "2024-04-19T17:48:31.597643Z"
        },
        "trusted": true,
        "id": "-AoYI6SguyFI"
      },
      "execution_count": null,
      "outputs": []
    },
    {
      "cell_type": "code",
      "source": [
        "X_train, X_valid, y_train, y_valid = train_test_split(X3, Y[targets[2]])"
      ],
      "metadata": {
        "execution": {
          "iopub.status.busy": "2024-04-19T17:52:43.179256Z",
          "iopub.execute_input": "2024-04-19T17:52:43.180105Z",
          "iopub.status.idle": "2024-04-19T17:52:43.189803Z",
          "shell.execute_reply.started": "2024-04-19T17:52:43.180055Z",
          "shell.execute_reply": "2024-04-19T17:52:43.188454Z"
        },
        "trusted": true,
        "id": "YBTiH_01uyFI"
      },
      "execution_count": null,
      "outputs": []
    },
    {
      "cell_type": "code",
      "source": [
        "xgb_regressor3 = XGBRegressor(n_estimators=500, learning_rate=0.05)\n",
        "xgb_regressor3.fit(X_train, y_train,\n",
        "             early_stopping_rounds=5,\n",
        "             eval_set=[(X_valid, y_valid)],\n",
        "             verbose=False)\n",
        "predictions = xgb_regressor3.predict(X_valid)\n",
        "print(\"Mean Absolute Error: \" + str(mean_absolute_error(predictions, y_valid)))"
      ],
      "metadata": {
        "execution": {
          "iopub.status.busy": "2024-04-19T17:53:01.748298Z",
          "iopub.execute_input": "2024-04-19T17:53:01.749144Z",
          "iopub.status.idle": "2024-04-19T17:53:01.997683Z",
          "shell.execute_reply.started": "2024-04-19T17:53:01.749092Z",
          "shell.execute_reply": "2024-04-19T17:53:01.996027Z"
        },
        "trusted": true,
        "id": "C6EibpiWuyFJ"
      },
      "execution_count": null,
      "outputs": []
    },
    {
      "cell_type": "code",
      "source": [
        "test_data=pd.read_csv('/kaggle/input/tabular-playground-series-jul-2021/test.csv')\n",
        "test_data.head()\n",
        "date_time_column2 = test_data['date_time']"
      ],
      "metadata": {
        "execution": {
          "iopub.status.busy": "2024-04-19T17:37:30.763122Z",
          "iopub.execute_input": "2024-04-19T17:37:30.763518Z",
          "iopub.status.idle": "2024-04-19T17:37:30.790783Z",
          "shell.execute_reply.started": "2024-04-19T17:37:30.763487Z",
          "shell.execute_reply": "2024-04-19T17:37:30.789559Z"
        },
        "trusted": true,
        "id": "S0WSyzLAuyFJ"
      },
      "execution_count": null,
      "outputs": []
    },
    {
      "cell_type": "code",
      "source": [
        "test_data['date_time'] = pd.to_datetime(test_data['date_time'])\n",
        "test_data['month'] = test_data['date_time'].dt.month\n",
        "test_data['day'] = test_data['date_time'].dt.day\n",
        "test_data['hour'] = test_data['date_time'].dt.hour\n",
        "test_data['day_week'] = test_data['date_time'].dt.day_of_week\n",
        "test_data.head()"
      ],
      "metadata": {
        "execution": {
          "iopub.status.busy": "2024-04-19T17:37:30.792807Z",
          "iopub.execute_input": "2024-04-19T17:37:30.793596Z",
          "iopub.status.idle": "2024-04-19T17:37:30.823472Z",
          "shell.execute_reply.started": "2024-04-19T17:37:30.79356Z",
          "shell.execute_reply": "2024-04-19T17:37:30.822319Z"
        },
        "trusted": true,
        "id": "Pi5KCa6nuyFJ"
      },
      "execution_count": null,
      "outputs": []
    },
    {
      "cell_type": "code",
      "source": [
        "hour_list=[]\n",
        "for hour in test_data['hour']:\n",
        "    part_day = find_hour(hour)\n",
        "    hour_list.append(part_day)\n",
        "test_data['part_day']=hour_list\n",
        "test_data.head()"
      ],
      "metadata": {
        "execution": {
          "iopub.status.busy": "2024-04-19T17:37:30.82494Z",
          "iopub.execute_input": "2024-04-19T17:37:30.825823Z",
          "iopub.status.idle": "2024-04-19T17:37:30.851478Z",
          "shell.execute_reply.started": "2024-04-19T17:37:30.82579Z",
          "shell.execute_reply": "2024-04-19T17:37:30.85047Z"
        },
        "trusted": true,
        "id": "S-PuiuC2uyFJ"
      },
      "execution_count": null,
      "outputs": []
    },
    {
      "cell_type": "code",
      "source": [
        "features_n =['deg_C', 'relative_humidity', 'absolute_humidity', 'sensor_1', 'sensor_2', 'sensor_3', 'sensor_4', 'sensor_5']\n",
        "test_data[features_n]  = scaler.fit_transform(test_data[features_n])\n",
        "test_data.head()"
      ],
      "metadata": {
        "execution": {
          "iopub.status.busy": "2024-04-19T17:37:30.853031Z",
          "iopub.execute_input": "2024-04-19T17:37:30.85347Z",
          "iopub.status.idle": "2024-04-19T17:37:30.88221Z",
          "shell.execute_reply.started": "2024-04-19T17:37:30.853431Z",
          "shell.execute_reply": "2024-04-19T17:37:30.880777Z"
        },
        "trusted": true,
        "id": "hL48gcqXuyFJ"
      },
      "execution_count": null,
      "outputs": []
    },
    {
      "cell_type": "code",
      "source": [
        "\n",
        "X1=test_data[features_1]\n",
        "X2=test_data[features_2]\n",
        "X3=test_data[features_3]\n",
        "X1.head()"
      ],
      "metadata": {
        "execution": {
          "iopub.status.busy": "2024-04-19T17:37:30.883826Z",
          "iopub.execute_input": "2024-04-19T17:37:30.884258Z",
          "iopub.status.idle": "2024-04-19T17:37:30.900753Z",
          "shell.execute_reply.started": "2024-04-19T17:37:30.884227Z",
          "shell.execute_reply": "2024-04-19T17:37:30.899363Z"
        },
        "trusted": true,
        "id": "-_0tnfZguyFJ"
      },
      "execution_count": null,
      "outputs": []
    },
    {
      "cell_type": "code",
      "source": [
        "out1=xgb_regressor1.predict(X1)\n",
        "out2=xgb_regressor2.predict(X2)\n",
        "out3=xgb_regressor3.predict(X3)\n",
        "output_df = pd.DataFrame({\n",
        "    'date_time': date_time_column2,\n",
        "    'target_carbon_monoxide': out1,\n",
        "    'target_benzene': out2,\n",
        "    'target_nitrogen_oxides': out3\n",
        "})\n",
        "\n",
        "output_df.head()\n"
      ],
      "metadata": {
        "execution": {
          "iopub.status.busy": "2024-04-19T17:37:30.902138Z",
          "iopub.execute_input": "2024-04-19T17:37:30.902586Z",
          "iopub.status.idle": "2024-04-19T17:37:30.938163Z",
          "shell.execute_reply.started": "2024-04-19T17:37:30.902553Z",
          "shell.execute_reply": "2024-04-19T17:37:30.937008Z"
        },
        "trusted": true,
        "id": "gZMECk3WuyFJ"
      },
      "execution_count": null,
      "outputs": []
    },
    {
      "cell_type": "code",
      "source": [],
      "metadata": {
        "trusted": true,
        "id": "mp0iVxo6uyFJ"
      },
      "execution_count": null,
      "outputs": []
    },
    {
      "cell_type": "code",
      "source": [
        "# import numpy as np\n",
        "# import xgboost as xgb\n",
        "\n",
        "# # Define the parameters for XGBoost models\n",
        "# xgb_params = {\n",
        "#     'objective': 'reg:squarederror',  # Use regression objective function\n",
        "#     'eval_metric': 'rmse',  # Root Mean Squared Error as evaluation metric\n",
        "#     'max_depth': 6,  # Maximum depth of a tree\n",
        "#     'learning_rate': 0.1,  # Learning rate\n",
        "#     'n_estimators': 1000,  # Number of boosting rounds\n",
        "#     'subsample': 0.8,  # Subsample ratio of the training instances\n",
        "#     'colsample_bytree': 0.8,  # Subsample ratio of columns when constructing each tree\n",
        "#     'random_state': None  # Different seed for each model\n",
        "# }\n",
        "\n",
        "# # Initialize a list to store XGBoost models\n",
        "# xgb_models = []\n",
        "\n",
        "# # Create 3 XGBoost models, one for each target\n",
        "# for target in targets:\n",
        "#     # Initialize XGBoost regressor\n",
        "#     xgb_regressor = xgb.XGBRegressor(**xgb_params)\n",
        "#     # Train the XGBoost model on the training data for the current target\n",
        "#     xgb_regressor.fit(X_train, y_train[target])\n",
        "#     # Append the trained model to the list\n",
        "#     xgb_models.append(xgb_regressor)\n",
        "\n",
        "# # Predictions from each XGBoost model\n",
        "# all_predictions = np.zeros((len(X_test), len(targets)))\n",
        "\n",
        "# # Make predictions using each XGBoost model and store them\n",
        "# for i, model in enumerate(xgb_models):\n",
        "#     predictions = model.predict(X_test)\n",
        "#     all_predictions[:, i] = predictions\n",
        "\n",
        "# # Compute RMSE for each target separately\n",
        "# rmse = np.sqrt(np.mean((y_test - all_predictions) ** 2, axis=0))\n",
        "# for i, target in enumerate(targets):\n",
        "#     print(f\"RMSE for {target}: {rmse[i]}\")"
      ],
      "metadata": {
        "execution": {
          "iopub.status.busy": "2024-04-19T17:37:30.939961Z",
          "iopub.execute_input": "2024-04-19T17:37:30.940534Z",
          "iopub.status.idle": "2024-04-19T17:37:30.947533Z",
          "shell.execute_reply.started": "2024-04-19T17:37:30.940492Z",
          "shell.execute_reply": "2024-04-19T17:37:30.946296Z"
        },
        "trusted": true,
        "id": "kWmlc1l-uyFJ"
      },
      "execution_count": null,
      "outputs": []
    },
    {
      "cell_type": "code",
      "source": [
        "output_df.shape"
      ],
      "metadata": {
        "execution": {
          "iopub.status.busy": "2024-04-19T17:37:30.949214Z",
          "iopub.execute_input": "2024-04-19T17:37:30.950084Z",
          "iopub.status.idle": "2024-04-19T17:37:30.966586Z",
          "shell.execute_reply.started": "2024-04-19T17:37:30.950029Z",
          "shell.execute_reply": "2024-04-19T17:37:30.965261Z"
        },
        "trusted": true,
        "id": "qhAuIpvhuyFJ"
      },
      "execution_count": null,
      "outputs": []
    },
    {
      "cell_type": "code",
      "source": [
        "output_df.to_csv('submission.csv', index=False)"
      ],
      "metadata": {
        "execution": {
          "iopub.status.busy": "2024-04-19T17:37:30.968057Z",
          "iopub.execute_input": "2024-04-19T17:37:30.968529Z",
          "iopub.status.idle": "2024-04-19T17:37:31.007907Z",
          "shell.execute_reply.started": "2024-04-19T17:37:30.968487Z",
          "shell.execute_reply": "2024-04-19T17:37:31.006705Z"
        },
        "trusted": true,
        "id": "-lcxU5PzuyFK"
      },
      "execution_count": null,
      "outputs": []
    },
    {
      "cell_type": "code",
      "source": [
        "# predicted_df.shape"
      ],
      "metadata": {
        "execution": {
          "iopub.status.busy": "2024-04-19T17:37:31.014377Z",
          "iopub.execute_input": "2024-04-19T17:37:31.014783Z",
          "iopub.status.idle": "2024-04-19T17:37:31.019659Z",
          "shell.execute_reply.started": "2024-04-19T17:37:31.014752Z",
          "shell.execute_reply": "2024-04-19T17:37:31.018099Z"
        },
        "trusted": true,
        "id": "enVoYw8vuyFK"
      },
      "execution_count": null,
      "outputs": []
    },
    {
      "cell_type": "code",
      "source": [
        "# predicted_df.to_csv('submission.csv', index=False)"
      ],
      "metadata": {
        "execution": {
          "iopub.status.busy": "2024-04-19T17:37:31.021532Z",
          "iopub.execute_input": "2024-04-19T17:37:31.022034Z",
          "iopub.status.idle": "2024-04-19T17:37:31.031632Z",
          "shell.execute_reply.started": "2024-04-19T17:37:31.021993Z",
          "shell.execute_reply": "2024-04-19T17:37:31.030396Z"
        },
        "trusted": true,
        "id": "l894pYqTuyFK"
      },
      "execution_count": null,
      "outputs": []
    }
  ]
}